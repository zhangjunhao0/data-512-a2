{
 "cells": [
  {
   "cell_type": "markdown",
   "metadata": {},
   "source": [
    "# A2: Bias in data"
   ]
  },
  {
   "cell_type": "markdown",
   "metadata": {},
   "source": [
    "## Step 1: Getting the Article and Population Data"
   ]
  },
  {
   "cell_type": "code",
   "execution_count": 1,
   "metadata": {},
   "outputs": [],
   "source": [
    "import pandas as pd\n",
    "from tqdm import tqdm"
   ]
  },
  {
   "cell_type": "code",
   "execution_count": 2,
   "metadata": {},
   "outputs": [],
   "source": [
    "article_data = pd.read_csv('page_data.csv')\n",
    "population_data = pd.read_csv('WPDS_2020_data.csv')"
   ]
  },
  {
   "cell_type": "markdown",
   "metadata": {},
   "source": [
    "## Step 2: Cleaning the Data"
   ]
  },
  {
   "cell_type": "code",
   "execution_count": 3,
   "metadata": {},
   "outputs": [
    {
     "name": "stdout",
     "output_type": "stream",
     "text": [
      "                                                 page                country  \\\n",
      "1                                      Bir I of Kanem                   Chad   \n",
      "10  Information Minister of the Palestinian Nation...  Palestinian Territory   \n",
      "12                                            Yos Por               Cambodia   \n",
      "23                                       Julius Gregr         Czech Republic   \n",
      "24                                       Edvard Gregr         Czech Republic   \n",
      "\n",
      "       rev_id  \n",
      "1   355319463  \n",
      "10  393276188  \n",
      "12  393822005  \n",
      "23  395521877  \n",
      "24  395526568  \n"
     ]
    }
   ],
   "source": [
    "# cleaning article_data\n",
    "article_data_cleaned = article_data[~article_data['page'].str.startswith('Template:')]\n",
    "print(article_data_cleaned.head())"
   ]
  },
  {
   "cell_type": "code",
   "execution_count": 4,
   "metadata": {},
   "outputs": [
    {
     "name": "stdout",
     "output_type": "stream",
     "text": [
      "  FIPS     Name     Type  TimeFrame  Data (M)  Population\n",
      "3   DZ  Algeria  Country       2019    44.357    44357000\n",
      "4   EG    Egypt  Country       2019   100.803   100803000\n",
      "5   LY    Libya  Country       2019     6.891     6891000\n",
      "6   MA  Morocco  Country       2019    35.952    35952000\n",
      "7   SD    Sudan  Country       2019    43.849    43849000\n"
     ]
    }
   ],
   "source": [
    "# cleaning population_data\n",
    "population_data_cleaned = population_data[~population_data['Name'].str.isupper()]\n",
    "print(population_data_cleaned.head())\n",
    "population_data_regional = population_data[population_data['Name'].str.isupper()]"
   ]
  },
  {
   "cell_type": "markdown",
   "metadata": {},
   "source": [
    "## Step 3: Getting Article Quality Predictions"
   ]
  },
  {
   "cell_type": "code",
   "execution_count": 5,
   "metadata": {},
   "outputs": [],
   "source": [
    "import json\n",
    "import requests"
   ]
  },
  {
   "cell_type": "code",
   "execution_count": 6,
   "metadata": {},
   "outputs": [],
   "source": [
    "headers = {\n",
    "    'User-Agent': 'https://github.com/zhangjunhao0',\n",
    "    'From': 'zjh01@uw.edu'\n",
    "}\n",
    "\n",
    "def ores_data(revision_ids):\n",
    "    revids = '|'.join(str(x) for x in revision_ids)\n",
    "    ores_api = 'https://ores.wikimedia.org/v3/scores/{project}/?models={model}&revids={revids}'\n",
    "    params = {\n",
    "        'project': 'enwiki',\n",
    "        'model': 'articlequality',\n",
    "        'revids': revids\n",
    "    }\n",
    "    \n",
    "    return requests.get(ores_api.format(**params), headers=headers).json()"
   ]
  },
  {
   "cell_type": "code",
   "execution_count": 7,
   "metadata": {},
   "outputs": [
    {
     "name": "stdout",
     "output_type": "stream",
     "text": [
      "(46701, 3)\n"
     ]
    }
   ],
   "source": [
    "print(article_data_cleaned.shape)"
   ]
  },
  {
   "cell_type": "code",
   "execution_count": 8,
   "metadata": {},
   "outputs": [
    {
     "name": "stderr",
     "output_type": "stream",
     "text": [
      "100%|██████████| 935/935 [04:45<00:00,  3.28it/s]\n"
     ]
    }
   ],
   "source": [
    "# create batches and use batch processing, 50 per batch\n",
    "revision_ids = list(article_data_cleaned['rev_id'])\n",
    "#revision_ids = revision_ids[:1001]\n",
    "total_batch = (len(revision_ids)-1)//50+1\n",
    "scores_list = []\n",
    "rev_ids_no_scores = []\n",
    "for i in tqdm(range(total_batch)):\n",
    "    # Call the API\n",
    "    ores_data_json = None\n",
    "    if i == total_batch-1:\n",
    "        ores_data_json = ores_data(revision_ids[50*i:])\n",
    "    else:\n",
    "        ores_data_json = ores_data(revision_ids[50*i:50*i+50])\n",
    "    \n",
    "    # Extract the key value pair\n",
    "    ores_data_scores = ores_data_json['enwiki']['scores']\n",
    "    for rev_id in ores_data_scores:\n",
    "        if 'score' in ores_data_scores[rev_id]['articlequality']:\n",
    "            scores_list.append([rev_id, ores_data_scores[rev_id]['articlequality']['score']['prediction']])\n",
    "        else:\n",
    "            rev_ids_no_scores.append(rev_id)"
   ]
  },
  {
   "cell_type": "code",
   "execution_count": 9,
   "metadata": {},
   "outputs": [
    {
     "name": "stdout",
     "output_type": "stream",
     "text": [
      "                                                page                country  \\\n",
      "0                                     Bir I of Kanem                   Chad   \n",
      "1  Information Minister of the Palestinian Nation...  Palestinian Territory   \n",
      "2                                            Yos Por               Cambodia   \n",
      "3                                       Julius Gregr         Czech Republic   \n",
      "4                                       Edvard Gregr         Czech Republic   \n",
      "\n",
      "      rev_id article_quality_est.  \n",
      "0  355319463                 Stub  \n",
      "1  393276188                 Stub  \n",
      "2  393822005                 Stub  \n",
      "3  395521877                 Stub  \n",
      "4  395526568                 Stub  \n"
     ]
    }
   ],
   "source": [
    "df_article_score = pd.DataFrame(scores_list, columns=['rev_id','article_quality_est.'])\n",
    "df_article_score['rev_id'] = df_article_score['rev_id'].astype('int')\n",
    "df_article_with_quality = article_data_cleaned.merge(df_article_score, how='inner', on='rev_id')\n",
    "print(df_article_with_quality.head())"
   ]
  },
  {
   "cell_type": "code",
   "execution_count": 10,
   "metadata": {},
   "outputs": [],
   "source": [
    "with open('articles_with_no_ores_scores', 'w') as f:\n",
    "    for item in rev_ids_no_scores:\n",
    "        f.write(\"%s\\n\" % item)"
   ]
  },
  {
   "cell_type": "markdown",
   "metadata": {},
   "source": [
    "## Step 4: Combining the Datasets"
   ]
  },
  {
   "cell_type": "code",
   "execution_count": 11,
   "metadata": {},
   "outputs": [
    {
     "name": "stdout",
     "output_type": "stream",
     "text": [
      "                        page country       rev_id article_quality_est. FIPS  \\\n",
      "0             Bir I of Kanem    Chad  355319463.0                 Stub   TD   \n",
      "1       Abdullah II of Kanem    Chad  498683267.0                 Stub   TD   \n",
      "2        Salmama II of Kanem    Chad  565745353.0                 Stub   TD   \n",
      "3            Kuri I of Kanem    Chad  565745365.0                 Stub   TD   \n",
      "4        Mohammed I of Kanem    Chad  565745375.0                 Stub   TD   \n",
      "5           Kuri II of Kanem    Chad  669719757.0                 Stub   TD   \n",
      "6            Bir II of Kanem    Chad  670893206.0                 Stub   TD   \n",
      "7            Mahamat Hissene    Chad  693055898.0                 Stub   TD   \n",
      "8                   Othman I    Chad  705432607.0                 Stub   TD   \n",
      "9            Alphonse Kotiga    Chad  707593108.0                 Stub   TD   \n",
      "10         Oueddei Kichidemi    Chad  708346649.0                Start   TD   \n",
      "11                  Dunama I    Chad  710675092.0                 Stub   TD   \n",
      "12  Ahmad (Kanem-Bornu king)    Chad  711388267.0                 Stub   TD   \n",
      "13         Djibrine Kerallah    Chad  712971263.0                 Stub   TD   \n",
      "14          Maurice Ngangtar    Chad  712971315.0                 Stub   TD   \n",
      "15            Idriss Miskine    Chad  712971738.0                 Stub   TD   \n",
      "16   Laoukein Kourayo Médard    Chad  716886170.0                 Stub   TD   \n",
      "17               Nadji Madou    Chad  716886788.0                 Stub   TD   \n",
      "18      Noël Milarew Odingar    Chad  716891799.0                Start   TD   \n",
      "19         Yaya Dillo Djérou    Chad  717733209.0                 Stub   TD   \n",
      "\n",
      "    Name     Type  TimeFrame  Data (M)  Population  \n",
      "0   Chad  Country     2019.0    16.877  16877000.0  \n",
      "1   Chad  Country     2019.0    16.877  16877000.0  \n",
      "2   Chad  Country     2019.0    16.877  16877000.0  \n",
      "3   Chad  Country     2019.0    16.877  16877000.0  \n",
      "4   Chad  Country     2019.0    16.877  16877000.0  \n",
      "5   Chad  Country     2019.0    16.877  16877000.0  \n",
      "6   Chad  Country     2019.0    16.877  16877000.0  \n",
      "7   Chad  Country     2019.0    16.877  16877000.0  \n",
      "8   Chad  Country     2019.0    16.877  16877000.0  \n",
      "9   Chad  Country     2019.0    16.877  16877000.0  \n",
      "10  Chad  Country     2019.0    16.877  16877000.0  \n",
      "11  Chad  Country     2019.0    16.877  16877000.0  \n",
      "12  Chad  Country     2019.0    16.877  16877000.0  \n",
      "13  Chad  Country     2019.0    16.877  16877000.0  \n",
      "14  Chad  Country     2019.0    16.877  16877000.0  \n",
      "15  Chad  Country     2019.0    16.877  16877000.0  \n",
      "16  Chad  Country     2019.0    16.877  16877000.0  \n",
      "17  Chad  Country     2019.0    16.877  16877000.0  \n",
      "18  Chad  Country     2019.0    16.877  16877000.0  \n",
      "19  Chad  Country     2019.0    16.877  16877000.0  \n"
     ]
    }
   ],
   "source": [
    "df_merged = df_article_with_quality.merge(population_data_cleaned, how='outer', left_on='country', right_on='Name')\n",
    "print(df_merged.head(20))"
   ]
  },
  {
   "cell_type": "code",
   "execution_count": 12,
   "metadata": {},
   "outputs": [],
   "source": [
    "# keep selected column\n",
    "df_merged['article_name'] = df_merged['page']\n",
    "df_merged['revision_id'] = df_merged['rev_id']\n",
    "df_merged['population'] = df_merged['Population']\n",
    "df_merged = df_merged[['country','article_name','revision_id','article_quality_est.','population']]"
   ]
  },
  {
   "cell_type": "code",
   "execution_count": 13,
   "metadata": {},
   "outputs": [],
   "source": [
    "# rows with unmatched data\n",
    "df_unmatched = df_merged[df_merged.isnull().any(axis=1)]\n",
    "df_unmatched.to_csv('wp_wpds_countries-no_match.csv', index=False)"
   ]
  },
  {
   "cell_type": "code",
   "execution_count": 14,
   "metadata": {},
   "outputs": [],
   "source": [
    "# rows with matched data\n",
    "df_matched = df_merged.dropna()\n",
    "df_matched.to_csv('wp_wpds_politicians_by_country.csv', index=False)"
   ]
  },
  {
   "cell_type": "markdown",
   "metadata": {},
   "source": [
    "## Step 5: Analysis"
   ]
  },
  {
   "cell_type": "code",
   "execution_count": 15,
   "metadata": {},
   "outputs": [],
   "source": [
    "# load data\n",
    "article_with_population = pd.read_csv('wp_wpds_politicians_by_country.csv')"
   ]
  },
  {
   "cell_type": "code",
   "execution_count": 16,
   "metadata": {},
   "outputs": [
    {
     "name": "stdout",
     "output_type": "stream",
     "text": [
      "       country  articles-per-population\n",
      "0  Afghanistan                 0.000033\n",
      "1      Albania                 0.000106\n",
      "2      Algeria                 0.000005\n",
      "3    Argentina                 0.000035\n",
      "4      Armenia                 0.000169\n"
     ]
    }
   ],
   "source": [
    "# articles-per-population for each country\n",
    "high_quality_article = article_with_population[(article_with_population['article_quality_est.']=='FA')|(article_with_population['article_quality_est.']=='GA')]\n",
    "articles_per_population = high_quality_article.groupby(['country','population'])['revision_id'].count().to_frame().reset_index()\n",
    "articles_per_population['articles-per-population'] = (articles_per_population['revision_id']/articles_per_population['population']) * 100\n",
    "articles_per_population = articles_per_population[['country', 'articles-per-population']]\n",
    "print(articles_per_population.head())"
   ]
  },
  {
   "cell_type": "code",
   "execution_count": 17,
   "metadata": {},
   "outputs": [],
   "source": [
    "# percent high quality articles for each country\n",
    "high_quality_count_by_country = high_quality_article.groupby('country')['revision_id'].count().to_frame().reset_index()\n",
    "total_count_by_country = article_with_population.groupby('country')['revision_id'].count().to_frame().reset_index()\n",
    "percent_high_quality_by_country = total_count_by_country.merge(high_quality_count_by_country, how='inner', on='country')\n",
    "percent_high_quality_by_country['percent_high_quality'] = percent_high_quality_by_country['revision_id_y']/percent_high_quality_by_country['revision_id_x']*100\n",
    "percent_high_quality_by_country = percent_high_quality_by_country[['country', 'percent_high_quality']]"
   ]
  },
  {
   "cell_type": "code",
   "execution_count": 18,
   "metadata": {},
   "outputs": [
    {
     "data": {
      "text/html": [
       "<div>\n",
       "<style scoped>\n",
       "    .dataframe tbody tr th:only-of-type {\n",
       "        vertical-align: middle;\n",
       "    }\n",
       "\n",
       "    .dataframe tbody tr th {\n",
       "        vertical-align: top;\n",
       "    }\n",
       "\n",
       "    .dataframe thead th {\n",
       "        text-align: right;\n",
       "    }\n",
       "</style>\n",
       "<table border=\"1\" class=\"dataframe\">\n",
       "  <thead>\n",
       "    <tr style=\"text-align: right;\">\n",
       "      <th></th>\n",
       "      <th>country</th>\n",
       "      <th>percent_high_quality</th>\n",
       "    </tr>\n",
       "  </thead>\n",
       "  <tbody>\n",
       "    <tr>\n",
       "      <td>0</td>\n",
       "      <td>Afghanistan</td>\n",
       "      <td>4.075235</td>\n",
       "    </tr>\n",
       "    <tr>\n",
       "      <td>1</td>\n",
       "      <td>Albania</td>\n",
       "      <td>0.657895</td>\n",
       "    </tr>\n",
       "    <tr>\n",
       "      <td>2</td>\n",
       "      <td>Algeria</td>\n",
       "      <td>1.724138</td>\n",
       "    </tr>\n",
       "    <tr>\n",
       "      <td>3</td>\n",
       "      <td>Argentina</td>\n",
       "      <td>3.258656</td>\n",
       "    </tr>\n",
       "    <tr>\n",
       "      <td>4</td>\n",
       "      <td>Armenia</td>\n",
       "      <td>2.590674</td>\n",
       "    </tr>\n",
       "  </tbody>\n",
       "</table>\n",
       "</div>"
      ],
      "text/plain": [
       "       country  percent_high_quality\n",
       "0  Afghanistan              4.075235\n",
       "1      Albania              0.657895\n",
       "2      Algeria              1.724138\n",
       "3    Argentina              3.258656\n",
       "4      Armenia              2.590674"
      ]
     },
     "execution_count": 18,
     "metadata": {},
     "output_type": "execute_result"
    }
   ],
   "source": [
    "percent_high_quality_by_country.head()"
   ]
  },
  {
   "cell_type": "code",
   "execution_count": 19,
   "metadata": {},
   "outputs": [
    {
     "data": {
      "text/html": [
       "<div>\n",
       "<style scoped>\n",
       "    .dataframe tbody tr th:only-of-type {\n",
       "        vertical-align: middle;\n",
       "    }\n",
       "\n",
       "    .dataframe tbody tr th {\n",
       "        vertical-align: top;\n",
       "    }\n",
       "\n",
       "    .dataframe thead th {\n",
       "        text-align: right;\n",
       "    }\n",
       "</style>\n",
       "<table border=\"1\" class=\"dataframe\">\n",
       "  <thead>\n",
       "    <tr style=\"text-align: right;\">\n",
       "      <th></th>\n",
       "      <th>FIPS</th>\n",
       "      <th>Name</th>\n",
       "      <th>Type</th>\n",
       "      <th>TimeFrame</th>\n",
       "      <th>Data (M)</th>\n",
       "      <th>Population</th>\n",
       "    </tr>\n",
       "  </thead>\n",
       "  <tbody>\n",
       "    <tr>\n",
       "      <td>0</td>\n",
       "      <td>WORLD</td>\n",
       "      <td>WORLD</td>\n",
       "      <td>World</td>\n",
       "      <td>2019</td>\n",
       "      <td>7772.850</td>\n",
       "      <td>7772850000</td>\n",
       "    </tr>\n",
       "    <tr>\n",
       "      <td>1</td>\n",
       "      <td>AFRICA</td>\n",
       "      <td>AFRICA</td>\n",
       "      <td>Sub-Region</td>\n",
       "      <td>2019</td>\n",
       "      <td>1337.918</td>\n",
       "      <td>1337918000</td>\n",
       "    </tr>\n",
       "    <tr>\n",
       "      <td>2</td>\n",
       "      <td>NORTHERN AFRICA</td>\n",
       "      <td>NORTHERN AFRICA</td>\n",
       "      <td>Sub-Region</td>\n",
       "      <td>2019</td>\n",
       "      <td>244.344</td>\n",
       "      <td>244344000</td>\n",
       "    </tr>\n",
       "    <tr>\n",
       "      <td>10</td>\n",
       "      <td>WESTERN AFRICA</td>\n",
       "      <td>WESTERN AFRICA</td>\n",
       "      <td>Sub-Region</td>\n",
       "      <td>2019</td>\n",
       "      <td>401.115</td>\n",
       "      <td>401115000</td>\n",
       "    </tr>\n",
       "    <tr>\n",
       "      <td>27</td>\n",
       "      <td>EASTERN AFRICA</td>\n",
       "      <td>EASTERN AFRICA</td>\n",
       "      <td>Sub-Region</td>\n",
       "      <td>2019</td>\n",
       "      <td>444.970</td>\n",
       "      <td>444970000</td>\n",
       "    </tr>\n",
       "    <tr>\n",
       "      <td>48</td>\n",
       "      <td>MIDDLE AFRICA</td>\n",
       "      <td>MIDDLE AFRICA</td>\n",
       "      <td>Sub-Region</td>\n",
       "      <td>2019</td>\n",
       "      <td>179.757</td>\n",
       "      <td>179757000</td>\n",
       "    </tr>\n",
       "    <tr>\n",
       "      <td>58</td>\n",
       "      <td>SOUTHERN AFRICA</td>\n",
       "      <td>SOUTHERN AFRICA</td>\n",
       "      <td>Sub-Region</td>\n",
       "      <td>2019</td>\n",
       "      <td>67.732</td>\n",
       "      <td>67732000</td>\n",
       "    </tr>\n",
       "    <tr>\n",
       "      <td>64</td>\n",
       "      <td>NORTHERN AMERICA</td>\n",
       "      <td>NORTHERN AMERICA</td>\n",
       "      <td>Sub-Region</td>\n",
       "      <td>2019</td>\n",
       "      <td>368.193</td>\n",
       "      <td>368193000</td>\n",
       "    </tr>\n",
       "    <tr>\n",
       "      <td>67</td>\n",
       "      <td>LATIN AMERICA AND THE CARIBBEAN</td>\n",
       "      <td>LATIN AMERICA AND THE CARIBBEAN</td>\n",
       "      <td>Sub-Region</td>\n",
       "      <td>2019</td>\n",
       "      <td>651.036</td>\n",
       "      <td>651036000</td>\n",
       "    </tr>\n",
       "    <tr>\n",
       "      <td>68</td>\n",
       "      <td>CENTRAL AMERICA</td>\n",
       "      <td>CENTRAL AMERICA</td>\n",
       "      <td>Sub-Region</td>\n",
       "      <td>2019</td>\n",
       "      <td>178.611</td>\n",
       "      <td>178611000</td>\n",
       "    </tr>\n",
       "    <tr>\n",
       "      <td>77</td>\n",
       "      <td>CARIBBEAN</td>\n",
       "      <td>CARIBBEAN</td>\n",
       "      <td>Sub-Region</td>\n",
       "      <td>2019</td>\n",
       "      <td>43.233</td>\n",
       "      <td>43233000</td>\n",
       "    </tr>\n",
       "    <tr>\n",
       "      <td>95</td>\n",
       "      <td>SOUTH AMERICA</td>\n",
       "      <td>SOUTH AMERICA</td>\n",
       "      <td>Sub-Region</td>\n",
       "      <td>2019</td>\n",
       "      <td>429.191</td>\n",
       "      <td>429191000</td>\n",
       "    </tr>\n",
       "    <tr>\n",
       "      <td>109</td>\n",
       "      <td>ASIA</td>\n",
       "      <td>ASIA</td>\n",
       "      <td>Sub-Region</td>\n",
       "      <td>2019</td>\n",
       "      <td>4625.927</td>\n",
       "      <td>4625927000</td>\n",
       "    </tr>\n",
       "    <tr>\n",
       "      <td>110</td>\n",
       "      <td>WESTERN ASIA</td>\n",
       "      <td>WESTERN ASIA</td>\n",
       "      <td>Sub-Region</td>\n",
       "      <td>2019</td>\n",
       "      <td>280.927</td>\n",
       "      <td>280927000</td>\n",
       "    </tr>\n",
       "    <tr>\n",
       "      <td>129</td>\n",
       "      <td>CENTRAL ASIA</td>\n",
       "      <td>CENTRAL ASIA</td>\n",
       "      <td>Sub-Region</td>\n",
       "      <td>2019</td>\n",
       "      <td>74.961</td>\n",
       "      <td>74961000</td>\n",
       "    </tr>\n",
       "    <tr>\n",
       "      <td>135</td>\n",
       "      <td>SOUTH ASIA</td>\n",
       "      <td>SOUTH ASIA</td>\n",
       "      <td>Sub-Region</td>\n",
       "      <td>2019</td>\n",
       "      <td>1967.131</td>\n",
       "      <td>1967131000</td>\n",
       "    </tr>\n",
       "    <tr>\n",
       "      <td>145</td>\n",
       "      <td>SOUTHEAST ASIA</td>\n",
       "      <td>SOUTHEAST ASIA</td>\n",
       "      <td>Sub-Region</td>\n",
       "      <td>2019</td>\n",
       "      <td>661.845</td>\n",
       "      <td>661845000</td>\n",
       "    </tr>\n",
       "    <tr>\n",
       "      <td>157</td>\n",
       "      <td>EAST ASIA</td>\n",
       "      <td>EAST ASIA</td>\n",
       "      <td>Sub-Region</td>\n",
       "      <td>2019</td>\n",
       "      <td>1641.063</td>\n",
       "      <td>1641063000</td>\n",
       "    </tr>\n",
       "    <tr>\n",
       "      <td>166</td>\n",
       "      <td>EUROPE</td>\n",
       "      <td>EUROPE</td>\n",
       "      <td>Sub-Region</td>\n",
       "      <td>2019</td>\n",
       "      <td>746.622</td>\n",
       "      <td>746622000</td>\n",
       "    </tr>\n",
       "    <tr>\n",
       "      <td>167</td>\n",
       "      <td>NORTHERN EUROPE</td>\n",
       "      <td>NORTHERN EUROPE</td>\n",
       "      <td>Sub-Region</td>\n",
       "      <td>2019</td>\n",
       "      <td>105.990</td>\n",
       "      <td>105990000</td>\n",
       "    </tr>\n",
       "    <tr>\n",
       "      <td>179</td>\n",
       "      <td>WESTERN EUROPE</td>\n",
       "      <td>WESTERN EUROPE</td>\n",
       "      <td>Sub-Region</td>\n",
       "      <td>2019</td>\n",
       "      <td>195.479</td>\n",
       "      <td>195479000</td>\n",
       "    </tr>\n",
       "    <tr>\n",
       "      <td>189</td>\n",
       "      <td>EASTERN EUROPE</td>\n",
       "      <td>EASTERN EUROPE</td>\n",
       "      <td>Sub-Region</td>\n",
       "      <td>2019</td>\n",
       "      <td>291.902</td>\n",
       "      <td>291902000</td>\n",
       "    </tr>\n",
       "    <tr>\n",
       "      <td>200</td>\n",
       "      <td>SOUTHERN EUROPE</td>\n",
       "      <td>SOUTHERN EUROPE</td>\n",
       "      <td>Sub-Region</td>\n",
       "      <td>2019</td>\n",
       "      <td>153.251</td>\n",
       "      <td>153251000</td>\n",
       "    </tr>\n",
       "    <tr>\n",
       "      <td>216</td>\n",
       "      <td>OCEANIA</td>\n",
       "      <td>OCEANIA</td>\n",
       "      <td>Sub-Region</td>\n",
       "      <td>2019</td>\n",
       "      <td>43.155</td>\n",
       "      <td>43155000</td>\n",
       "    </tr>\n",
       "  </tbody>\n",
       "</table>\n",
       "</div>"
      ],
      "text/plain": [
       "                                FIPS                             Name  \\\n",
       "0                              WORLD                            WORLD   \n",
       "1                             AFRICA                           AFRICA   \n",
       "2                    NORTHERN AFRICA                  NORTHERN AFRICA   \n",
       "10                    WESTERN AFRICA                   WESTERN AFRICA   \n",
       "27                    EASTERN AFRICA                   EASTERN AFRICA   \n",
       "48                     MIDDLE AFRICA                    MIDDLE AFRICA   \n",
       "58                   SOUTHERN AFRICA                  SOUTHERN AFRICA   \n",
       "64                  NORTHERN AMERICA                 NORTHERN AMERICA   \n",
       "67   LATIN AMERICA AND THE CARIBBEAN  LATIN AMERICA AND THE CARIBBEAN   \n",
       "68                   CENTRAL AMERICA                  CENTRAL AMERICA   \n",
       "77                         CARIBBEAN                        CARIBBEAN   \n",
       "95                     SOUTH AMERICA                    SOUTH AMERICA   \n",
       "109                             ASIA                             ASIA   \n",
       "110                     WESTERN ASIA                     WESTERN ASIA   \n",
       "129                     CENTRAL ASIA                     CENTRAL ASIA   \n",
       "135                       SOUTH ASIA                       SOUTH ASIA   \n",
       "145                   SOUTHEAST ASIA                   SOUTHEAST ASIA   \n",
       "157                        EAST ASIA                        EAST ASIA   \n",
       "166                           EUROPE                           EUROPE   \n",
       "167                  NORTHERN EUROPE                  NORTHERN EUROPE   \n",
       "179                   WESTERN EUROPE                   WESTERN EUROPE   \n",
       "189                   EASTERN EUROPE                   EASTERN EUROPE   \n",
       "200                  SOUTHERN EUROPE                  SOUTHERN EUROPE   \n",
       "216                          OCEANIA                          OCEANIA   \n",
       "\n",
       "           Type  TimeFrame  Data (M)  Population  \n",
       "0         World       2019  7772.850  7772850000  \n",
       "1    Sub-Region       2019  1337.918  1337918000  \n",
       "2    Sub-Region       2019   244.344   244344000  \n",
       "10   Sub-Region       2019   401.115   401115000  \n",
       "27   Sub-Region       2019   444.970   444970000  \n",
       "48   Sub-Region       2019   179.757   179757000  \n",
       "58   Sub-Region       2019    67.732    67732000  \n",
       "64   Sub-Region       2019   368.193   368193000  \n",
       "67   Sub-Region       2019   651.036   651036000  \n",
       "68   Sub-Region       2019   178.611   178611000  \n",
       "77   Sub-Region       2019    43.233    43233000  \n",
       "95   Sub-Region       2019   429.191   429191000  \n",
       "109  Sub-Region       2019  4625.927  4625927000  \n",
       "110  Sub-Region       2019   280.927   280927000  \n",
       "129  Sub-Region       2019    74.961    74961000  \n",
       "135  Sub-Region       2019  1967.131  1967131000  \n",
       "145  Sub-Region       2019   661.845   661845000  \n",
       "157  Sub-Region       2019  1641.063  1641063000  \n",
       "166  Sub-Region       2019   746.622   746622000  \n",
       "167  Sub-Region       2019   105.990   105990000  \n",
       "179  Sub-Region       2019   195.479   195479000  \n",
       "189  Sub-Region       2019   291.902   291902000  \n",
       "200  Sub-Region       2019   153.251   153251000  \n",
       "216  Sub-Region       2019    43.155    43155000  "
      ]
     },
     "execution_count": 19,
     "metadata": {},
     "output_type": "execute_result"
    }
   ],
   "source": [
    "population_data_regional.head(30)"
   ]
  },
  {
   "cell_type": "code",
   "execution_count": 20,
   "metadata": {},
   "outputs": [
    {
     "name": "stdout",
     "output_type": "stream",
     "text": [
      "              region  articles-per-population\n",
      "0          CARIBBEAN                 0.000030\n",
      "1    CENTRAL AMERICA                 0.000013\n",
      "2       CENTRAL ASIA                 0.000009\n",
      "3          EAST ASIA                 0.000005\n",
      "4     EASTERN AFRICA                 0.000008\n",
      "5     EASTERN EUROPE                 0.000040\n",
      "6      MIDDLE AFRICA                 0.000009\n",
      "7    NORTHERN AFRICA                 0.000008\n",
      "8   NORTHERN AMERICA                 0.000028\n",
      "9    NORTHERN EUROPE                 0.000096\n",
      "10           OCEANIA                 0.000146\n",
      "11     SOUTH AMERICA                 0.000009\n",
      "12        SOUTH ASIA                 0.000004\n",
      "13    SOUTHEAST ASIA                 0.000011\n",
      "14   SOUTHERN AFRICA                 0.000013\n",
      "15   SOUTHERN EUROPE                 0.000048\n",
      "16    WESTERN AFRICA                 0.000010\n",
      "17      WESTERN ASIA                 0.000032\n",
      "18    WESTERN EUROPE                 0.000029\n"
     ]
    }
   ],
   "source": [
    "# articles-per-population for each smaller region\n",
    "\n",
    "# find the corresponding region for each country\n",
    "country_to_subregion_mapping = population_data\n",
    "current_region = None\n",
    "country_names = population_data['Name']\n",
    "res_region = []\n",
    "for i in range(len(country_names)):\n",
    "    if country_names[i].isupper():\n",
    "        current_region = country_names[i]\n",
    "    res_region.append(current_region)\n",
    "country_to_subregion_mapping['region'] = res_region\n",
    "country_to_subregion_mapping = country_to_subregion_mapping[~country_to_subregion_mapping['Name'].str.isupper()]\n",
    "country_to_subregion_mapping = country_to_subregion_mapping[['Name','region']]\n",
    "article_with_population_and_region = article_with_population.merge(country_to_subregion_mapping, how='inner', left_on='country', right_on='Name')\n",
    "\n",
    "# analysis\n",
    "high_quality_article_region = article_with_population_and_region[(article_with_population_and_region['article_quality_est.']=='FA')|(article_with_population_and_region['article_quality_est.']=='GA')]\n",
    "articles_per_population_region = high_quality_article_region.groupby('region').agg({'revision_id':'count'}).reset_index()\n",
    "articles_per_population_region = articles_per_population_region.merge(population_data[['Name','Population']], left_on='region',right_on='Name')\n",
    "articles_per_population_region['articles-per-population'] = (articles_per_population_region['revision_id']/articles_per_population_region['Population']) * 100\n",
    "articles_per_population_region = articles_per_population_region[['region', 'articles-per-population']]\n",
    "print(articles_per_population_region)"
   ]
  },
  {
   "cell_type": "code",
   "execution_count": 21,
   "metadata": {},
   "outputs": [
    {
     "name": "stdout",
     "output_type": "stream",
     "text": [
      "                            region  articles-per-population\n",
      "0                           AFRICA                 0.000009\n",
      "1                             ASIA                 0.000007\n",
      "2                           EUROPE                 0.000055\n",
      "3  LATIN AMERICA AND THE CARIBBEAN                 0.000012\n"
     ]
    }
   ],
   "source": [
    "# articles-per-population for each larger subregion (AFRICA, LATIN AMERICA AND THE CARIBBEAN, ASIA, EUROPE)\n",
    "# find the corresponding larger region for each country\n",
    "country_to_large_subregion_mapping = population_data\n",
    "current_region = None\n",
    "country_names = population_data['Name']\n",
    "res_region = []\n",
    "large_regions = ['AFRICA', 'LATIN AMERICA AND THE CARIBBEAN', 'ASIA', 'EUROPE']\n",
    "for i in range(len(country_names)):\n",
    "    if country_names[i] in large_regions:\n",
    "        current_region = country_names[i]\n",
    "    elif country_names[i] == 'NORTHERN AMERICA': # since northern america does not belong to any larger subregion\n",
    "        current_region = None\n",
    "    res_region.append(current_region)\n",
    "country_to_large_subregion_mapping['region'] = res_region\n",
    "country_to_large_subregion_mapping = country_to_large_subregion_mapping[~country_to_large_subregion_mapping['Name'].str.isupper()]\n",
    "country_to_large_subregion_mapping = country_to_large_subregion_mapping[['Name','region']]\n",
    "country_to_large_subregion_mapping = country_to_large_subregion_mapping.dropna()\n",
    "article_with_population_and_large_region = article_with_population.merge(country_to_large_subregion_mapping, how='inner', left_on='country', right_on='Name')\n",
    "\n",
    "# analysis\n",
    "high_quality_article_large_region = article_with_population_and_large_region[(article_with_population_and_large_region['article_quality_est.']=='FA')|(article_with_population_and_large_region['article_quality_est.']=='GA')]\n",
    "articles_per_population_large_region = high_quality_article_large_region.groupby('region').agg({'revision_id':'count'}).reset_index()\n",
    "articles_per_population_large_region = articles_per_population_large_region.merge(population_data[['Name','Population']], left_on='region',right_on='Name')\n",
    "articles_per_population_large_region['articles-per-population'] = (articles_per_population_large_region['revision_id']/articles_per_population_large_region['Population']) * 100\n",
    "articles_per_population_large_region = articles_per_population_large_region[['region', 'articles-per-population']]\n",
    "print(articles_per_population_large_region)"
   ]
  },
  {
   "cell_type": "code",
   "execution_count": 22,
   "metadata": {},
   "outputs": [
    {
     "name": "stdout",
     "output_type": "stream",
     "text": [
      "                             region  articles-per-population\n",
      "0                         CARIBBEAN                 0.000030\n",
      "1                   CENTRAL AMERICA                 0.000013\n",
      "2                      CENTRAL ASIA                 0.000009\n",
      "3                         EAST ASIA                 0.000005\n",
      "4                    EASTERN AFRICA                 0.000008\n",
      "5                    EASTERN EUROPE                 0.000040\n",
      "6                     MIDDLE AFRICA                 0.000009\n",
      "7                   NORTHERN AFRICA                 0.000008\n",
      "8                  NORTHERN AMERICA                 0.000028\n",
      "9                   NORTHERN EUROPE                 0.000096\n",
      "10                          OCEANIA                 0.000146\n",
      "11                    SOUTH AMERICA                 0.000009\n",
      "12                       SOUTH ASIA                 0.000004\n",
      "13                   SOUTHEAST ASIA                 0.000011\n",
      "14                  SOUTHERN AFRICA                 0.000013\n",
      "15                  SOUTHERN EUROPE                 0.000048\n",
      "16                   WESTERN AFRICA                 0.000010\n",
      "17                     WESTERN ASIA                 0.000032\n",
      "18                   WESTERN EUROPE                 0.000029\n",
      "19                           AFRICA                 0.000009\n",
      "20                             ASIA                 0.000007\n",
      "21                           EUROPE                 0.000055\n",
      "22  LATIN AMERICA AND THE CARIBBEAN                 0.000012\n"
     ]
    }
   ],
   "source": [
    "# concatenate both smaller and large regions for final result\n",
    "articles_per_population_all_region = pd.concat([articles_per_population_region, articles_per_population_large_region], ignore_index=True)\n",
    "print(articles_per_population_all_region)"
   ]
  },
  {
   "cell_type": "code",
   "execution_count": 23,
   "metadata": {},
   "outputs": [
    {
     "name": "stdout",
     "output_type": "stream",
     "text": [
      "                             region  percent_high_quality\n",
      "0                         CARIBBEAN              1.870504\n",
      "1                   CENTRAL AMERICA              1.490603\n",
      "2                      CENTRAL ASIA              2.857143\n",
      "3                         EAST ASIA              3.073190\n",
      "4                    EASTERN AFRICA              1.398881\n",
      "5                    EASTERN EUROPE              3.161844\n",
      "6                     MIDDLE AFRICA              2.406015\n",
      "7                   NORTHERN AFRICA              2.113459\n",
      "8                  NORTHERN AMERICA              5.470805\n",
      "9                   NORTHERN EUROPE              2.710603\n",
      "10                          OCEANIA              2.015355\n",
      "11                    SOUTH AMERICA              1.319261\n",
      "12                       SOUTH ASIA              1.626202\n",
      "13                   SOUTHEAST ASIA              3.613861\n",
      "14                  SOUTHERN AFRICA              1.419558\n",
      "15                  SOUTHERN EUROPE              1.994609\n",
      "16                   WESTERN AFRICA              1.870033\n",
      "17                     WESTERN ASIA              3.472493\n",
      "18                   WESTERN EUROPE              1.228070\n",
      "19                           AFRICA              1.740020\n",
      "20                             ASIA              2.708494\n",
      "21                           EUROPE              2.186226\n",
      "22  LATIN AMERICA AND THE CARIBBEAN              1.442125\n"
     ]
    }
   ],
   "source": [
    "# percent high quality articles for each small region\n",
    "high_quality_count_by_region = high_quality_article_region.groupby('region')['revision_id'].count().to_frame().reset_index()\n",
    "total_count_by_region = article_with_population_and_region.groupby('region')['revision_id'].count().to_frame().reset_index()\n",
    "percent_high_quality_by_region = total_count_by_region.merge(high_quality_count_by_region, how='inner', on='region')\n",
    "percent_high_quality_by_region['percent_high_quality'] = percent_high_quality_by_region['revision_id_y']/percent_high_quality_by_region['revision_id_x']*100\n",
    "percent_high_quality_by_region = percent_high_quality_by_region[['region', 'percent_high_quality']]\n",
    "\n",
    "# percent high quality articles for each large region\n",
    "high_quality_count_by_large_region = high_quality_article_large_region.groupby('region')['revision_id'].count().to_frame().reset_index()\n",
    "total_count_by_large_region = article_with_population_and_large_region.groupby('region')['revision_id'].count().to_frame().reset_index()\n",
    "percent_high_quality_by_large_region = total_count_by_large_region.merge(high_quality_count_by_large_region, how='inner', on='region')\n",
    "percent_high_quality_by_large_region['percent_high_quality'] = percent_high_quality_by_large_region['revision_id_y']/percent_high_quality_by_large_region['revision_id_x']*100\n",
    "percent_high_quality_by_large_region = percent_high_quality_by_large_region[['region', 'percent_high_quality']]\n",
    "\n",
    "# concatenate both smaller and large regions for final result\n",
    "percent_high_quality_by_all_region = pd.concat([percent_high_quality_by_region, percent_high_quality_by_large_region], ignore_index=True)\n",
    "print(percent_high_quality_by_all_region)"
   ]
  },
  {
   "cell_type": "markdown",
   "metadata": {},
   "source": [
    "## Step 6: Results"
   ]
  },
  {
   "cell_type": "markdown",
   "metadata": {},
   "source": [
    "### Top 10 countries by coverage"
   ]
  },
  {
   "cell_type": "code",
   "execution_count": 24,
   "metadata": {},
   "outputs": [
    {
     "name": "stdout",
     "output_type": "stream",
     "text": [
      "         country  articles-per-population\n",
      "133       Tuvalu                 0.040000\n",
      "33      Dominica                 0.001389\n",
      "141      Vanuatu                 0.000935\n",
      "51       Iceland                 0.000543\n",
      "56       Ireland                 0.000500\n",
      "86    Montenegro                 0.000322\n",
      "81    Martinique                 0.000281\n",
      "12        Bhutan                 0.000274\n",
      "91   New Zealand                 0.000261\n",
      "106      Romania                 0.000218\n"
     ]
    }
   ],
   "source": [
    "articles_per_population = articles_per_population.sort_values(by='articles-per-population', ascending=False)\n",
    "print(articles_per_population.head(10))"
   ]
  },
  {
   "cell_type": "markdown",
   "metadata": {},
   "source": [
    "### Bottom 10 countries by coverage"
   ]
  },
  {
   "cell_type": "code",
   "execution_count": 25,
   "metadata": {},
   "outputs": [
    {
     "name": "stdout",
     "output_type": "stream",
     "text": [
      "        country  articles-per-population\n",
      "52        India             9.285051e-07\n",
      "94      Nigeria             9.702144e-07\n",
      "128    Tanzania             1.674088e-06\n",
      "38     Ethiopia             1.740402e-06\n",
      "8    Bangladesh             1.766691e-06\n",
      "27     Colombia             2.022490e-06\n",
      "134      Uganda             2.186222e-06\n",
      "87      Morocco             2.781486e-06\n",
      "16       Brazil             2.832701e-06\n",
      "26        China             2.852284e-06\n"
     ]
    }
   ],
   "source": [
    "articles_per_population = articles_per_population.sort_values(by='articles-per-population', ascending=True)\n",
    "print(articles_per_population.head(10))"
   ]
  },
  {
   "cell_type": "markdown",
   "metadata": {},
   "source": [
    "### Top 10 countries by relative quality"
   ]
  },
  {
   "cell_type": "code",
   "execution_count": 26,
   "metadata": {},
   "outputs": [
    {
     "name": "stdout",
     "output_type": "stream",
     "text": [
      "                      country  percent_high_quality\n",
      "63               Korea, North             22.222222\n",
      "109              Saudi Arabia             12.820513\n",
      "106                   Romania             12.244898\n",
      "23   Central African Republic             12.121212\n",
      "140                Uzbekistan             10.714286\n",
      "82                 Mauritania             10.416667\n",
      "46                  Guatemala              8.433735\n",
      "33                   Dominica              8.333333\n",
      "125                     Syria              7.812500\n",
      "11                      Benin              7.692308\n"
     ]
    }
   ],
   "source": [
    "percent_high_quality_by_country = percent_high_quality_by_country.sort_values(by='percent_high_quality', ascending=False)\n",
    "print(percent_high_quality_by_country.head(10))"
   ]
  },
  {
   "cell_type": "markdown",
   "metadata": {},
   "source": [
    "### Bottom 10 countries by relative quality"
   ]
  },
  {
   "cell_type": "code",
   "execution_count": 27,
   "metadata": {},
   "outputs": [
    {
     "name": "stdout",
     "output_type": "stream",
     "text": [
      "         country  percent_high_quality\n",
      "10       Belgium              0.192678\n",
      "128     Tanzania              0.247525\n",
      "124  Switzerland              0.248756\n",
      "89         Nepal              0.280899\n",
      "101         Peru              0.285714\n",
      "94       Nigeria              0.295858\n",
      "104     Portugal              0.314465\n",
      "27      Colombia              0.350877\n",
      "73     Lithuania              0.409836\n",
      "87       Morocco              0.485437\n"
     ]
    }
   ],
   "source": [
    "percent_high_quality_by_country = percent_high_quality_by_country.sort_values(by='percent_high_quality', ascending=True)\n",
    "print(percent_high_quality_by_country.head(10))"
   ]
  },
  {
   "cell_type": "markdown",
   "metadata": {},
   "source": [
    "### Geographic regions by coverage"
   ]
  },
  {
   "cell_type": "code",
   "execution_count": 28,
   "metadata": {},
   "outputs": [
    {
     "name": "stdout",
     "output_type": "stream",
     "text": [
      "                             region  articles-per-population\n",
      "10                          OCEANIA                 0.000146\n",
      "9                   NORTHERN EUROPE                 0.000096\n",
      "21                           EUROPE                 0.000055\n",
      "15                  SOUTHERN EUROPE                 0.000048\n",
      "5                    EASTERN EUROPE                 0.000040\n",
      "17                     WESTERN ASIA                 0.000032\n",
      "0                         CARIBBEAN                 0.000030\n",
      "18                   WESTERN EUROPE                 0.000029\n",
      "8                  NORTHERN AMERICA                 0.000028\n",
      "14                  SOUTHERN AFRICA                 0.000013\n",
      "1                   CENTRAL AMERICA                 0.000013\n",
      "22  LATIN AMERICA AND THE CARIBBEAN                 0.000012\n",
      "13                   SOUTHEAST ASIA                 0.000011\n",
      "16                   WESTERN AFRICA                 0.000010\n",
      "2                      CENTRAL ASIA                 0.000009\n",
      "11                    SOUTH AMERICA                 0.000009\n",
      "6                     MIDDLE AFRICA                 0.000009\n",
      "19                           AFRICA                 0.000009\n",
      "4                    EASTERN AFRICA                 0.000008\n",
      "7                   NORTHERN AFRICA                 0.000008\n",
      "20                             ASIA                 0.000007\n",
      "3                         EAST ASIA                 0.000005\n",
      "12                       SOUTH ASIA                 0.000004\n"
     ]
    }
   ],
   "source": [
    "print(articles_per_population_all_region.sort_values(by='articles-per-population', ascending=False))"
   ]
  },
  {
   "cell_type": "markdown",
   "metadata": {},
   "source": [
    "### Geographic regions by quality"
   ]
  },
  {
   "cell_type": "code",
   "execution_count": 29,
   "metadata": {},
   "outputs": [
    {
     "name": "stdout",
     "output_type": "stream",
     "text": [
      "                             region  percent_high_quality\n",
      "8                  NORTHERN AMERICA              5.470805\n",
      "13                   SOUTHEAST ASIA              3.613861\n",
      "17                     WESTERN ASIA              3.472493\n",
      "5                    EASTERN EUROPE              3.161844\n",
      "3                         EAST ASIA              3.073190\n",
      "2                      CENTRAL ASIA              2.857143\n",
      "9                   NORTHERN EUROPE              2.710603\n",
      "20                             ASIA              2.708494\n",
      "6                     MIDDLE AFRICA              2.406015\n",
      "21                           EUROPE              2.186226\n",
      "7                   NORTHERN AFRICA              2.113459\n",
      "10                          OCEANIA              2.015355\n",
      "15                  SOUTHERN EUROPE              1.994609\n",
      "0                         CARIBBEAN              1.870504\n",
      "16                   WESTERN AFRICA              1.870033\n",
      "19                           AFRICA              1.740020\n",
      "12                       SOUTH ASIA              1.626202\n",
      "1                   CENTRAL AMERICA              1.490603\n",
      "22  LATIN AMERICA AND THE CARIBBEAN              1.442125\n",
      "14                  SOUTHERN AFRICA              1.419558\n",
      "4                    EASTERN AFRICA              1.398881\n",
      "11                    SOUTH AMERICA              1.319261\n",
      "18                   WESTERN EUROPE              1.228070\n"
     ]
    }
   ],
   "source": [
    "print(percent_high_quality_by_all_region.sort_values(by='percent_high_quality', ascending=False))"
   ]
  },
  {
   "cell_type": "markdown",
   "metadata": {},
   "source": [
    "## Reflections and Implications"
   ]
  },
  {
   "cell_type": "markdown",
   "metadata": {},
   "source": [
    "In this project, we investigated the qualities of Wikipedia articles on politicians. We use two metrics: articles per population and proportion of high quality articles. The first metric looks at the overall coverage of wikipedia articles on politicians, as countries with greater populations are expected to have more politicians, and thus more wikipedia articles on them. The second metric focuses on the quality of article by looking at how many articles are of high qualities. \n",
    "\n",
    "In my opinion, the articles per population metric is biased against these countries for two reasons. First, different countries' populations are of entirely different orders of magnitudes. Some countries have 10000 times more populations than others, making this matric very punishing for large countries. Second, although there should be more politicians for a larger country, the number of important politicians do not scale linearly with the population. The total number of politicians for these countries is likely large, but many of them remain in a local level and thus does not make sense for Wikipedia to include high quality articles of them containing much information, since their actions likely do not affect the entire country as a whole. Thus, this metric is biased. This claim is further supported after I performed the analysis and found that the bottom 10 countries ranked by coverage consist mostly of those with high population. \n",
    "\n",
    "Another finding is that in a regional level, regions with more English speaking countries have higher qualities of articles. This is mainly because the data source is from English Wikipedia pages. These pages might be machine translated from other languages, or human translated by some volunteers whose English are not as good as native speakers. The machine learning API only receives these articles as input and thus cannot change the rating standards accordingly, thus causing this bias.\n",
    "\n",
    "When analyzing the data, I found some country names from the two datasets (articles and populations) do not match exactly. As a result, these data is discarded. Discarding this data can create bias because the discarded data is not random and with missing data from some countries, the overall regional data can also be biased."
   ]
  },
  {
   "cell_type": "code",
   "execution_count": null,
   "metadata": {},
   "outputs": [],
   "source": []
  }
 ],
 "metadata": {
  "kernelspec": {
   "display_name": "Python 3",
   "language": "python",
   "name": "python3"
  },
  "language_info": {
   "codemirror_mode": {
    "name": "ipython",
    "version": 3
   },
   "file_extension": ".py",
   "mimetype": "text/x-python",
   "name": "python",
   "nbconvert_exporter": "python",
   "pygments_lexer": "ipython3",
   "version": "3.7.4"
  }
 },
 "nbformat": 4,
 "nbformat_minor": 2
}
